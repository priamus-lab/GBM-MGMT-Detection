{
 "cells": [
  {
   "cell_type": "code",
   "execution_count": null,
   "metadata": {},
   "outputs": [],
   "source": [
    "import sys\n",
    "sys.path.append(\"..\")\n",
    "from utils.dcm_nii_mat_utils import *\n",
    "from utils.knowledge_filtering import *"
   ]
  },
  {
   "cell_type": "code",
   "execution_count": null,
   "metadata": {},
   "outputs": [],
   "source": [
    "main_path = \"../../RSNA-BTC-Datasets\""
   ]
  },
  {
   "cell_type": "code",
   "execution_count": null,
   "metadata": {},
   "outputs": [],
   "source": []
  },
  {
   "cell_type": "code",
   "execution_count": null,
   "metadata": {},
   "outputs": [],
   "source": [
    "dicom_input = f\"{main_path}/train\"\n",
    "pat_list = get_patients_list_from_dcm_folder(dicom_input)\n",
    "print(pat_list)"
   ]
  },
  {
   "cell_type": "code",
   "execution_count": null,
   "metadata": {},
   "outputs": [],
   "source": []
  },
  {
   "cell_type": "code",
   "execution_count": null,
   "metadata": {},
   "outputs": [],
   "source": [
    "dicom_input = f\"{main_path}/train\"\n",
    "nifti_output = f\"{main_path}/train_nii\"\n",
    "get_nii_from_dcm_folder(dicom_input, nifti_output)"
   ]
  },
  {
   "cell_type": "code",
   "execution_count": null,
   "metadata": {},
   "outputs": [],
   "source": []
  },
  {
   "cell_type": "code",
   "execution_count": null,
   "metadata": {},
   "outputs": [],
   "source": [
    "import csv\n",
    "\n",
    "out_dict = {}\n",
    "\n",
    "with open('train_labels.csv', mode='r') as csv_file:\n",
    "    csv_reader = csv.DictReader(csv_file)\n",
    "    for row in csv_reader:\n",
    "        out_dict[row[\"BraTS21ID\"]] = row[\"MGMT_value\"]\n",
    "\n",
    "    #print(out_dict)\n",
    "    \n",
    "    with open('train_labels_0.csv', mode='w') as csv_file:\n",
    "        fieldnames = ['BraTS21ID', 'MGMT_value']\n",
    "        writer = csv.DictWriter(csv_file, fieldnames=fieldnames)\n",
    "\n",
    "        writer.writeheader()\n",
    "        for item in out_dict.items():\n",
    "            if item[1] == \"0\":\n",
    "                writer.writerow({\"BraTS21ID\": item[0], \"MGMT_value\": item[1]})\n",
    "\n",
    "    with open('train_labels_1.csv', mode='w') as csv_file:\n",
    "        fieldnames = ['BraTS21ID', 'MGMT_value']\n",
    "        writer = csv.DictWriter(csv_file, fieldnames=fieldnames)\n",
    "\n",
    "        writer.writeheader()\n",
    "        for item in out_dict.items():\n",
    "            if item[1] == \"1\":\n",
    "                writer.writerow({\"BraTS21ID\": item[0], \"MGMT_value\": item[1]})"
   ]
  },
  {
   "cell_type": "code",
   "execution_count": null,
   "metadata": {},
   "outputs": [],
   "source": []
  },
  {
   "cell_type": "code",
   "execution_count": null,
   "metadata": {},
   "outputs": [],
   "source": [
    "nifti_output = f\"{main_path}/train_nii\"\n",
    "group_nii_files_by_class(nifti_output)"
   ]
  },
  {
   "cell_type": "code",
   "execution_count": null,
   "metadata": {},
   "outputs": [],
   "source": []
  },
  {
   "cell_type": "code",
   "execution_count": null,
   "metadata": {},
   "outputs": [],
   "source": [
    "nifti_output = f\"{main_path}/train_nii\"\n",
    "pat_list = get_patients_list_from_nii_folder(nifti_output)"
   ]
  },
  {
   "cell_type": "code",
   "execution_count": null,
   "metadata": {},
   "outputs": [],
   "source": [
    "\"\"\"\n",
    "test_file_error = list()\n",
    "\n",
    "# Convert DICOM to NIFTI by reporting errors\n",
    "\n",
    "dicom_input = \"/home/uc/rsna-miccai-brain-tumor-radiogenomic-classification/test\"\n",
    "nifti_output = \"/home/uc/RSNA-BTC-Datasets/test_nii\"\n",
    "folder = glob(dicom_input + '/*')\n",
    "\n",
    "for patient_id in tqdm(folder):\n",
    "    mri_types = glob(patient_id+'/*')\n",
    "    for patient in mri_types:\n",
    "        name = os.path.basename(os.path.dirname(patient))\n",
    "        #print(\"NAME: \"+name)\n",
    "        #print(\"PATIENT: \"+patient)\n",
    "        dir_name = os.path.basename(patient)\n",
    "        try:\n",
    "            #dicom_input = dicom2nifti.common.read_dicom_directory(patient)\n",
    "            #print(dicom_input[0])\n",
    "            dicom2nifti.dicom_series_to_nifti(patient, os.path.join(nifti_output, dir_name, name + '.nii.gz'))\n",
    "        except dicom2nifti.exceptions.ConversionValidationError as err:\n",
    "            print(\"Error with \"+name+\" in \"+dir_name)\n",
    "            print(err)\n",
    "            test_file_error.append(name+\" - \"+dir_name+\" - \"+str(err))\n",
    "            pass \n",
    "        #except Exception as err:\n",
    "            #print(\"Error with \"+name+\" in \"+dir_name)\n",
    "            #print(err)\n",
    "            #file_error.append(name+\" - \"+dir_name)\n",
    "            #pass\n",
    "\n",
    "(test_file_error)\n",
    "\"\"\""
   ]
  },
  {
   "cell_type": "code",
   "execution_count": null,
   "metadata": {},
   "outputs": [],
   "source": [
    "dicom_input = f\"{main_path}/test\"\n",
    "nifti_output = f\"{main_path}/test_nii\"\n",
    "get_nii_from_dcm_folder(dicom_input, nifti_output)"
   ]
  },
  {
   "cell_type": "code",
   "execution_count": null,
   "metadata": {},
   "outputs": [],
   "source": []
  },
  {
   "cell_type": "code",
   "execution_count": null,
   "metadata": {},
   "outputs": [],
   "source": [
    "nifti_output = f\"{main_path}/test_nii\"\n",
    "group_nii_files_by_unknown_class(nifti_output)"
   ]
  },
  {
   "cell_type": "code",
   "execution_count": null,
   "metadata": {},
   "outputs": [],
   "source": []
  },
  {
   "cell_type": "code",
   "execution_count": null,
   "metadata": {},
   "outputs": [],
   "source": [
    "train_csv = \"../train_labels.csv\"\n",
    "test_csv = \"../sample_submission.csv\"\n",
    "data = import_train_and_test_from_csv(train_csv, test_csv)"
   ]
  },
  {
   "cell_type": "code",
   "execution_count": null,
   "metadata": {},
   "outputs": [],
   "source": [
    "convert_nii_data_to_mat(data, main_path)"
   ]
  },
  {
   "cell_type": "code",
   "execution_count": null,
   "metadata": {},
   "outputs": [],
   "source": []
  },
  {
   "cell_type": "code",
   "execution_count": null,
   "metadata": {},
   "outputs": [],
   "source": [
    "ext = \"mat\"\n",
    "\n",
    "dir_path = f\"{main_path}/train_\"+ext\n",
    "test_dir_path = f\"{main_path}/test_\"+ext\n",
    "mri_types = [\"FLAIR\", \"T1w\"]#, \"T1wCE\", \"T2w\"]\n",
    "\n",
    "dataset_0_mat = Dataset(dir_path, mri_types, list_classes=[\"0\"], transform=None, ext=ext)\n",
    "logging.info(\"Train/Val datasets size: {}\".format(len(dataset_0_mat)))\n",
    "\n",
    "dataset_1_mat = Dataset(dir_path, mri_types, list_classes=[\"1\"], transform=None, ext=ext)\n",
    "logging.info(\"Train/Val datasets size: {}\".format(len(dataset_1_mat)))\n",
    "\n",
    "dataset_test_mat = Dataset(test_dir_path, mri_types, list_classes=[\"unknown\"], transform=None, ext=ext)\n",
    "logging.info(\"Test datasets size: {}\".format(len(dataset_test_mat)))"
   ]
  },
  {
   "cell_type": "code",
   "execution_count": null,
   "metadata": {},
   "outputs": [],
   "source": []
  },
  {
   "cell_type": "code",
   "execution_count": null,
   "metadata": {},
   "outputs": [],
   "source": [
    "patients_dict = retrieve_patients_list_from_datasets(dataset_0_mat, dataset_1_mat, dataset_test_mat)"
   ]
  },
  {
   "cell_type": "code",
   "execution_count": null,
   "metadata": {},
   "outputs": [],
   "source": []
  },
  {
   "cell_type": "code",
   "execution_count": null,
   "metadata": {},
   "outputs": [],
   "source": [
    "save_kb_volumes_as_mat(dataset_0_mat, \"train\", 0, patients_dict[\"train_0\"], [\"FLAIR\", \"T1w\"], main_path)\n",
    "save_kb_volumes_as_mat(dataset_1_mat, \"train\", 1, patients_dict[\"train_1\"], [\"FLAIR\", \"T1w\"], main_path)\n",
    "save_kb_volumes_as_mat(dataset_test_mat, \"test\", \"unknown\", patients_dict[\"test\"], [\"FLAIR\", \"T1w\"], main_path)"
   ]
  }
 ],
 "metadata": {
  "kernelspec": {
   "display_name": "Python 3 (ipykernel)",
   "language": "python",
   "name": "python3"
  },
  "language_info": {
   "codemirror_mode": {
    "name": "ipython",
    "version": 3
   },
   "file_extension": ".py",
   "mimetype": "text/x-python",
   "name": "python",
   "nbconvert_exporter": "python",
   "pygments_lexer": "ipython3",
   "version": "3.9.12"
  }
 },
 "nbformat": 4,
 "nbformat_minor": 4
}
